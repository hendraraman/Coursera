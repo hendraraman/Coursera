{
  "metadata": {
    "language_info": {
      "codemirror_mode": {
        "name": "python",
        "version": 3
      },
      "file_extension": ".py",
      "mimetype": "text/x-python",
      "name": "python",
      "nbconvert_exporter": "python",
      "pygments_lexer": "ipython3",
      "version": "3.8"
    },
    "kernelspec": {
      "name": "python",
      "display_name": "Pyolite",
      "language": "python"
    }
  },
  "nbformat_minor": 4,
  "nbformat": 4,
  "cells": [
    {
      "cell_type": "markdown",
      "source": "#My Jupyter Notebook on IBM Watson Studio",
      "metadata": {}
    },
    {
      "cell_type": "markdown",
      "source": "# **Hendra Raman C**\n## Student",
      "metadata": {}
    },
    {
      "cell_type": "markdown",
      "source": "## I am interested in Data Science because it seems like a detective's job and am related in financial markets where I can apply various learnt methodologies of data science on markets",
      "metadata": {}
    },
    {
      "cell_type": "markdown",
      "source": "### I am trying to multiply two numbers",
      "metadata": {}
    },
    {
      "cell_type": "code",
      "source": "2*13",
      "metadata": {
        "trusted": true
      },
      "execution_count": 1,
      "outputs": [
        {
          "execution_count": 1,
          "output_type": "execute_result",
          "data": {
            "text/plain": "26"
          },
          "metadata": {}
        }
      ]
    },
    {
      "cell_type": "markdown",
      "source": "- I am hendra\n-- This is markdown ",
      "metadata": {}
    }
  ]
}